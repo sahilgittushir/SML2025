{
  "nbformat": 4,
  "nbformat_minor": 0,
  "metadata": {
    "colab": {
      "provenance": []
    },
    "kernelspec": {
      "name": "python3",
      "display_name": "Python 3"
    },
    "language_info": {
      "name": "python"
    }
  },
  "cells": [
    {
      "cell_type": "markdown",
      "source": [
        "Part 1: Imports and Helper Functions"
      ],
      "metadata": {
        "id": "m_-7h-X9keeU"
      }
    },
    {
      "cell_type": "code",
      "source": [
        "\n",
        "import numpy as np\n",
        "import pandas as pd\n",
        "\n",
        "def gini(y):\n",
        "    m = y.shape[0]\n",
        "    if m == 0:\n",
        "        return 0\n",
        "    counts = np.bincount(y)\n",
        "    probs = counts / m\n",
        "    return 1 - np.sum(probs ** 2)"
      ],
      "metadata": {
        "id": "UZ-MgiOakj2h"
      },
      "execution_count": 2,
      "outputs": []
    },
    {
      "cell_type": "markdown",
      "source": [
        "Part 2: Decision Tree Class"
      ],
      "metadata": {
        "id": "8ePPnlZ1kw9r"
      }
    },
    {
      "cell_type": "code",
      "source": [
        "class DecisionTree:\n",
        "    def __init__(self, max_depth=None, min_samples_split=2, max_features=None):\n",
        "        self.max_depth = max_depth\n",
        "        self.min_samples_split = min_samples_split\n",
        "        self.max_features = max_features\n",
        "        self.tree = None\n",
        "\n",
        "    def fit(self, X, y):\n",
        "        if self.max_features is None:\n",
        "            self.max_features = X.shape[1]\n",
        "        self.tree = self._build_tree(X, y, depth=0)\n",
        "\n",
        "    def _build_tree(self, X, y, depth):\n",
        "        num_samples, num_features = X.shape\n",
        "        unique_classes = np.unique(y)\n",
        "\n",
        "        if (self.max_depth is not None and depth >= self.max_depth) or \\\n",
        "           (num_samples < self.min_samples_split) or \\\n",
        "           (len(unique_classes) == 1):\n",
        "            return self._create_leaf_node(y)\n",
        "\n",
        "        best_feature, best_threshold = self._find_best_split(X, y)\n",
        "        if best_feature is None:\n",
        "            return self._create_leaf_node(y)\n",
        "\n",
        "        left_idxs = X[:, best_feature] <= best_threshold\n",
        "        right_idxs = ~left_idxs\n",
        "\n",
        "        left = self._build_tree(X[left_idxs], y[left_idxs], depth + 1)\n",
        "        right = self._build_tree(X[right_idxs], y[right_idxs], depth + 1)\n",
        "\n",
        "        return {'feature': best_feature, 'threshold': best_threshold,\n",
        "                'left': left, 'right': right}\n",
        "\n",
        "    def _find_best_split(self, X, y):\n",
        "        best_gini = float('inf')\n",
        "        best_feature = None\n",
        "        best_threshold = None\n",
        "\n",
        "        selected_features = np.random.choice(X.shape[1], self.max_features, replace=False)\n",
        "\n",
        "        for feature in selected_features:\n",
        "            feature_values = X[:, feature]\n",
        "            unique_values = np.unique(feature_values)\n",
        "            if len(unique_values) < 2:\n",
        "                continue\n",
        "            thresholds = (unique_values[:-1] + unique_values[1:]) / 2\n",
        "            for threshold in thresholds:\n",
        "                left_idxs = feature_values <= threshold\n",
        "                if np.sum(left_idxs) == 0 or np.sum(left_idxs) == len(feature_values):\n",
        "                    continue\n",
        "                left_gini = gini(y[left_idxs])\n",
        "                right_gini = gini(y[~left_idxs])\n",
        "                weighted_gini = (left_gini * np.sum(left_idxs) + right_gini * np.sum(~left_idxs)) / len(y)\n",
        "                if weighted_gini < best_gini:\n",
        "                    best_gini = weighted_gini\n",
        "                    best_feature = feature\n",
        "                    best_threshold = threshold\n",
        "        return best_feature, best_threshold\n",
        "\n",
        "    def _create_leaf_node(self, y):\n",
        "        counts = np.bincount(y)\n",
        "        return {'value': np.argmax(counts)}\n",
        "\n",
        "    def predict(self, X):\n",
        "        return np.array([self._predict_tree(x, self.tree) for x in X])\n",
        "\n",
        "    def _predict_tree(self, x, node):\n",
        "        if 'value' in node:\n",
        "            return node['value']\n",
        "        if x[node['feature']] <= node['threshold']:\n",
        "            return self._predict_tree(x, node['left'])\n",
        "        else:\n",
        "            return self._predict_tree(x, node['right'])\n",
        "\n",
        "    #DecisionTree class for visualization\n",
        "    def print_tree(self, node=None, indent=\"\"):\n",
        "        if node is None:\n",
        "            node = self.tree\n",
        "        if 'value' in node:\n",
        "            print(f\"{indent}[Leaf] Value = {'Yes' if node['value'] == 1 else 'No'}\")\n",
        "        else:\n",
        "            print(f\"{indent}Feature {node['feature']} <= {node['threshold']:.2f}?\")\n",
        "            print(f\"{indent}├── True:\", end=\"\")\n",
        "            self.print_tree(node['left'], indent + \"│   \")\n",
        "            print(f\"{indent}└── False:\", end=\"\")\n",
        "            self.print_tree(node['right'], indent + \"    \")"
      ],
      "metadata": {
        "id": "3pwhb7p0kxol"
      },
      "execution_count": 8,
      "outputs": []
    },
    {
      "cell_type": "markdown",
      "source": [
        "Part 3: Bagging Class"
      ],
      "metadata": {
        "id": "l8NMQBSQk4PV"
      }
    },
    {
      "cell_type": "code",
      "source": [
        "class Bagging:\n",
        "    def __init__(self, n_trees=10, max_depth=None, min_samples_split=2, max_features=None):\n",
        "        self.n_trees = n_trees\n",
        "        self.max_depth = max_depth\n",
        "        self.min_samples_split = min_samples_split\n",
        "        self.max_features = max_features\n",
        "        self.trees = []\n",
        "        self.oob_indices = []\n",
        "\n",
        "    def fit(self, X, y):\n",
        "        n_samples = X.shape[0]\n",
        "        self.trees = []\n",
        "        self.oob_indices = []\n",
        "\n",
        "        for _ in range(self.n_trees):\n",
        "            bootstrap_indices = np.random.choice(n_samples, n_samples, replace=True)\n",
        "            oob_mask = np.zeros(n_samples, dtype=bool)\n",
        "            oob_mask[bootstrap_indices] = True\n",
        "            oob_indices = np.where(~oob_mask)[0]\n",
        "            self.oob_indices.append(oob_indices)\n",
        "\n",
        "            X_bootstrap = X[bootstrap_indices]\n",
        "            y_bootstrap = y[bootstrap_indices]\n",
        "\n",
        "            tree = DecisionTree(max_depth=self.max_depth,\n",
        "                                min_samples_split=self.min_samples_split,\n",
        "                                max_features=self.max_features)\n",
        "            tree.fit(X_bootstrap, y_bootstrap)\n",
        "            self.trees.append(tree)\n",
        "\n",
        "    def compute_oob_error(self, X, y):\n",
        "        n_samples = X.shape[0]\n",
        "        oob_preds = [[] for _ in range(n_samples)]\n",
        "\n",
        "        for tree_idx, tree in enumerate(self.trees):\n",
        "            oob = self.oob_indices[tree_idx]\n",
        "            if len(oob) == 0:\n",
        "                continue\n",
        "            preds = tree.predict(X[oob])\n",
        "            for i, pred in zip(oob, preds):\n",
        "                oob_preds[i].append(pred)\n",
        "\n",
        "        y_pred = []\n",
        "        for i in range(n_samples):\n",
        "            if len(oob_preds[i]) == 0:\n",
        "                y_pred.append(np.random.choice([0, 1]))\n",
        "            else:\n",
        "                y_pred.append(np.argmax(np.bincount(oob_preds[i])))\n",
        "        y_pred = np.array(y_pred)\n",
        "        return np.mean(y_pred != y)"
      ],
      "metadata": {
        "id": "ELdx5EkAk8Pd"
      },
      "execution_count": 9,
      "outputs": []
    },
    {
      "cell_type": "markdown",
      "source": [
        "Part 4: Data Preparation"
      ],
      "metadata": {
        "id": "SMj6b7lElSHB"
      }
    },
    {
      "cell_type": "code",
      "source": [
        "\n",
        "# Dataset\n",
        "data = [\n",
        "    [25, 'High', 'No', 'Fair', 'No'],\n",
        "    [30, 'High', 'No', 'Excellent', 'No'],\n",
        "    [35, 'Medium', 'No', 'Fair', 'Yes'],\n",
        "    [40, 'Low', 'No', 'Fair', 'Yes'],\n",
        "    [45, 'Low', 'Yes', 'Fair', 'Yes'],\n",
        "    [50, 'Low', 'Yes', 'Excellent', 'No'],\n",
        "    [55, 'Medium', 'Yes', 'Excellent', 'Yes'],\n",
        "    [60, 'High', 'No', 'Fair', 'No']\n",
        "]\n",
        "\n",
        "# Encoding\n",
        "df = pd.DataFrame(data, columns=['Age', 'Income', 'Student', 'Credit Rating', 'Buy Computer'])\n",
        "df['Income'] = df['Income'].map({'High': 2, 'Medium': 1, 'Low': 0})\n",
        "df['Student'] = df['Student'].map({'Yes': 1, 'No': 0})\n",
        "df['Credit Rating'] = df['Credit Rating'].map({'Fair': 0, 'Excellent': 1})\n",
        "df['Buy Computer'] = df['Buy Computer'].map({'Yes': 1, 'No': 0})\n",
        "\n",
        "X = df[['Age', 'Income', 'Student', 'Credit Rating']].values\n",
        "y = df['Buy Computer'].values"
      ],
      "metadata": {
        "id": "DQmrb1MhlSuK"
      },
      "execution_count": 10,
      "outputs": []
    },
    {
      "cell_type": "markdown",
      "source": [
        "Part 5: Task 1 & 2 (Decision Tree)"
      ],
      "metadata": {
        "id": "_CHwRvoVlZlS"
      }
    },
    {
      "cell_type": "code",
      "source": [
        "\n",
        "# Train and visualize decision tree\n",
        "dt = DecisionTree(max_depth=3, min_samples_split=2)\n",
        "dt.fit(X, y)\n",
        "\n",
        "print(\"\\nDecision Tree Structure:\")\n",
        "dt.print_tree()\n",
        "\n",
        "# Prediction for new data\n",
        "new_data = np.array([[42, 0, 0, 1]])  # Age=42, Income=Low, Student=No, Credit=Excellent\n",
        "pred = dt.predict(new_data)\n",
        "print(f\"\\nTask 2 Prediction: {'Yes' if pred[0] == 1 else 'No'}\")"
      ],
      "metadata": {
        "colab": {
          "base_uri": "https://localhost:8080/"
        },
        "id": "eCjXU7tvlah7",
        "outputId": "c092c5f1-34b6-4ad0-86d7-460b5c775f97"
      },
      "execution_count": 11,
      "outputs": [
        {
          "output_type": "stream",
          "name": "stdout",
          "text": [
            "\n",
            "Decision Tree Structure:\n",
            "Feature 1 <= 1.50?\n",
            "├── True:│   Feature 0 <= 47.50?\n",
            "│   ├── True:│   │   [Leaf] Value = Yes\n",
            "│   └── False:│       Feature 0 <= 52.50?\n",
            "│       ├── True:│       │   [Leaf] Value = No\n",
            "│       └── False:│           [Leaf] Value = Yes\n",
            "└── False:    [Leaf] Value = No\n",
            "\n",
            "Task 2 Prediction: Yes\n"
          ]
        }
      ]
    },
    {
      "cell_type": "markdown",
      "source": [
        "Part 6: Task 3 (Bagging with All Features)"
      ],
      "metadata": {
        "id": "Tndpi_ZBl0SH"
      }
    },
    {
      "cell_type": "code",
      "source": [
        "\n",
        "# Bagging with all features\n",
        "bagging = Bagging(n_trees=10, max_depth=3, min_samples_split=2, max_features=None)\n",
        "bagging.fit(X, y)\n",
        "oob_error_task3 = bagging.compute_oob_error(X, y)\n",
        "print(f\"Task 3 OOB Error: {oob_error_task3:.4f}\")"
      ],
      "metadata": {
        "colab": {
          "base_uri": "https://localhost:8080/"
        },
        "id": "W0J4GPf4l7s9",
        "outputId": "bd9491ec-1989-4d61-b1cf-404b581e5c56"
      },
      "execution_count": 12,
      "outputs": [
        {
          "output_type": "stream",
          "name": "stdout",
          "text": [
            "Task 3 OOB Error: 0.5000\n"
          ]
        }
      ]
    },
    {
      "cell_type": "markdown",
      "source": [
        "Part 7: Task 4 (Bagging with 2 Features)"
      ],
      "metadata": {
        "id": "EhB4LA_3mFt0"
      }
    },
    {
      "cell_type": "code",
      "source": [
        "\n",
        "# Bagging with 2 random features\n",
        "bagging2 = Bagging(n_trees=10, max_depth=3, min_samples_split=2, max_features=2)\n",
        "bagging2.fit(X, y)\n",
        "oob_error_task4 = bagging2.compute_oob_error(X, y)\n",
        "print(f\"Task 4 OOB Error: {oob_error_task4:.4f}\")"
      ],
      "metadata": {
        "colab": {
          "base_uri": "https://localhost:8080/"
        },
        "id": "Z1jS1AA_mGfw",
        "outputId": "5bd48598-15ea-47f7-e3de-80252097965a"
      },
      "execution_count": 13,
      "outputs": [
        {
          "output_type": "stream",
          "name": "stdout",
          "text": [
            "Task 4 OOB Error: 0.6250\n"
          ]
        }
      ]
    }
  ]
}