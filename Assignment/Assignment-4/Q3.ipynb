{
  "nbformat": 4,
  "nbformat_minor": 0,
  "metadata": {
    "colab": {
      "provenance": []
    },
    "kernelspec": {
      "name": "python3",
      "display_name": "Python 3"
    },
    "language_info": {
      "name": "python"
    }
  },
  "cells": [
    {
      "cell_type": "markdown",
      "source": [
        "# **Dataset Generation and Split**\n",
        "\n",
        "---\n",
        "\n"
      ],
      "metadata": {
        "id": "MxSNZyKh5NsU"
      }
    },
    {
      "cell_type": "code",
      "source": [
        "import numpy as np\n",
        "\n",
        "# Generate synthetic data\n",
        "n_per_class = 10\n",
        "X0 = np.random.multivariate_normal(mean=[-1, -1], cov=np.eye(2), size=n_per_class)\n",
        "y0 = np.zeros(n_per_class)\n",
        "X1 = np.random.multivariate_normal(mean=[1,  1], cov=np.eye(2), size=n_per_class)\n",
        "y1 = np.ones(n_per_class)\n",
        "\n",
        "# Combine and shuffle\n",
        "X = np.vstack([X0, X1])\n",
        "y = np.concatenate([y0, y1])\n",
        "perm = np.random.permutation(len(y))\n",
        "X, y = X[perm], y[perm]\n",
        "\n",
        "# 50/50 train-test split\n",
        "split = len(y) // 2\n",
        "X_train, y_train = X[:split], y[:split]\n",
        "X_test,  y_test  = X[split:], y[split:]\n",
        "\n",
        "print(f\"Train samples: {X_train.shape[0]}, Test samples: {X_test.shape[0]}\")"
      ],
      "metadata": {
        "colab": {
          "base_uri": "https://localhost:8080/"
        },
        "id": "xCNce6By5W6A",
        "outputId": "fc6309bf-46b3-437a-ac0c-158083a75836"
      },
      "execution_count": 5,
      "outputs": [
        {
          "output_type": "stream",
          "name": "stdout",
          "text": [
            "Train samples: 10, Test samples: 10\n"
          ]
        }
      ]
    },
    {
      "cell_type": "markdown",
      "source": [
        "# **Parameter Initialization**\n",
        "\n",
        "---\n",
        "\n"
      ],
      "metadata": {
        "id": "YQ6ecmzr5fGx"
      }
    },
    {
      "cell_type": "code",
      "source": [
        "# Initialize weights and biases randomly\n",
        "W1 = np.random.randn(1, 2)   # (1 hidden neuron × 2 inputs)\n",
        "b1 = np.random.randn()       # scalar bias for hidden neuron\n",
        "W2 = np.random.randn()       # scalar weight from hidden to output\n",
        "b2 = np.random.randn()       # scalar bias for output\n",
        "\n",
        "def sigmoid(z):\n",
        "    return 1 / (1 + np.exp(-z))"
      ],
      "metadata": {
        "id": "PiaeAcWn5jlc"
      },
      "execution_count": 6,
      "outputs": []
    },
    {
      "cell_type": "markdown",
      "source": [
        "# **Training with Gradient Descent and Squared Error Loss**\n",
        "\n",
        "---\n",
        "\n"
      ],
      "metadata": {
        "id": "QmDF-SQl5vLn"
      }
    },
    {
      "cell_type": "code",
      "source": [
        "lr = 0.1               # learning rate\n",
        "epochs = 1000          # number of iterations\n",
        "N_train = X_train.shape[0]\n",
        "\n",
        "for epoch in range(1, epochs + 1):\n",
        "    # Forward pass\n",
        "    Z1 = X_train.dot(W1.T).ravel() + b1          # shape (N_train,)\n",
        "    A1 = sigmoid(Z1)                             # hidden activations\n",
        "    Y_pred = W2 * A1 + b2                        # linear output\n",
        "\n",
        "    # Compute training loss (MSE)\n",
        "    error = y_train - Y_pred\n",
        "    loss = np.mean(error**2)\n",
        "\n",
        "    # Backward pass (gradients)\n",
        "    dY_pred = -2 * error / N_train               # dL/dY_pred\n",
        "    dW2 = np.dot(dY_pred, A1)                    # gradient wrt W2\n",
        "    db2 = np.sum(dY_pred)                        # gradient wrt b2\n",
        "\n",
        "    # backprop into hidden layer\n",
        "    dZ1 = dY_pred * W2 * (A1 * (1 - A1))         # shape (N_train,)\n",
        "    dW1 = dZ1.dot(X_train)                       # gradient wrt W1 (shape (2,))\n",
        "    db1 = np.sum(dZ1)                            # gradient wrt b1\n",
        "\n",
        "    # Gradient descent updates\n",
        "    W2 -= lr * dW2\n",
        "    b2 -= lr * db2\n",
        "    W1 -= lr * dW1.reshape(W1.shape)             # reshape to (1,2)\n",
        "    b1 -= lr * db1\n",
        "\n",
        "    if epoch % 100 == 0:\n",
        "        print(f\"Epoch {epoch:04d} — Training MSE: {loss:.4f}\")"
      ],
      "metadata": {
        "colab": {
          "base_uri": "https://localhost:8080/"
        },
        "id": "g5us3OUq5xOU",
        "outputId": "bef4a902-b42c-4842-afae-d3a03dedad1d"
      },
      "execution_count": 7,
      "outputs": [
        {
          "output_type": "stream",
          "name": "stdout",
          "text": [
            "Epoch 0100 — Training MSE: 0.1154\n",
            "Epoch 0200 — Training MSE: 0.1042\n",
            "Epoch 0300 — Training MSE: 0.1013\n",
            "Epoch 0400 — Training MSE: 0.1000\n",
            "Epoch 0500 — Training MSE: 0.0989\n",
            "Epoch 0600 — Training MSE: 0.0981\n",
            "Epoch 0700 — Training MSE: 0.0973\n",
            "Epoch 0800 — Training MSE: 0.0966\n",
            "Epoch 0900 — Training MSE: 0.0959\n",
            "Epoch 1000 — Training MSE: 0.0952\n"
          ]
        }
      ]
    },
    {
      "cell_type": "markdown",
      "source": [
        "# **Evaluate on Test Set**\n",
        "\n",
        "---\n",
        "\n"
      ],
      "metadata": {
        "id": "OuHH-cru58l6"
      }
    },
    {
      "cell_type": "code",
      "source": [
        "# Forward pass on test data\n",
        "Z1_test = X_test.dot(W1.T).ravel() + b1\n",
        "A1_test = sigmoid(Z1_test)\n",
        "Y_test_pred = W2 * A1_test + b2\n",
        "\n",
        "# Compute test MSE\n",
        "test_mse = np.mean((y_test - Y_test_pred)**2)\n",
        "print(f\"\\nTest MSE: {test_mse:.4f}\")"
      ],
      "metadata": {
        "colab": {
          "base_uri": "https://localhost:8080/"
        },
        "id": "bbsSS2zB6DoB",
        "outputId": "c64f451c-4573-4f24-fa90-0429906a5ab7"
      },
      "execution_count": 8,
      "outputs": [
        {
          "output_type": "stream",
          "name": "stdout",
          "text": [
            "\n",
            "Test MSE: 0.2211\n"
          ]
        }
      ]
    }
  ]
}